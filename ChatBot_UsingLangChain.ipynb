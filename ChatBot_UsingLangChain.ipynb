{
  "nbformat": 4,
  "nbformat_minor": 0,
  "metadata": {
    "colab": {
      "provenance": [],
      "authorship_tag": "ABX9TyMA9LaVez7TJePtnaOaGS7/",
      "include_colab_link": true
    },
    "kernelspec": {
      "name": "python3",
      "display_name": "Python 3"
    },
    "language_info": {
      "name": "python"
    }
  },
  "cells": [
    {
      "cell_type": "markdown",
      "metadata": {
        "id": "view-in-github",
        "colab_type": "text"
      },
      "source": [
        "<a href=\"https://colab.research.google.com/github/priyariyyer/AIML_Projects/blob/main/ChatBot_UsingLangChain.ipynb\" target=\"_parent\"><img src=\"https://colab.research.google.com/assets/colab-badge.svg\" alt=\"Open In Colab\"/></a>"
      ]
    },
    {
      "cell_type": "markdown",
      "source": [
        "##Install required libraries"
      ],
      "metadata": {
        "id": "OYPabWp6lUOa"
      }
    },
    {
      "cell_type": "code",
      "execution_count": 2,
      "metadata": {
        "id": "_8My6Z5jftvy",
        "colab": {
          "base_uri": "https://localhost:8080/"
        },
        "outputId": "7f8612c2-ea5c-4901-df49-c3e0861ba1d5"
      },
      "outputs": [
        {
          "output_type": "stream",
          "name": "stdout",
          "text": [
            "Collecting langchain_groq\n",
            "  Downloading langchain_groq-0.3.2-py3-none-any.whl.metadata (2.6 kB)\n",
            "Requirement already satisfied: langchain-core<1.0.0,>=0.3.49 in /usr/local/lib/python3.11/dist-packages (from langchain_groq) (0.3.65)\n",
            "Collecting groq<1,>=0.4.1 (from langchain_groq)\n",
            "  Downloading groq-0.28.0-py3-none-any.whl.metadata (15 kB)\n",
            "Requirement already satisfied: anyio<5,>=3.5.0 in /usr/local/lib/python3.11/dist-packages (from groq<1,>=0.4.1->langchain_groq) (4.9.0)\n",
            "Requirement already satisfied: distro<2,>=1.7.0 in /usr/local/lib/python3.11/dist-packages (from groq<1,>=0.4.1->langchain_groq) (1.9.0)\n",
            "Requirement already satisfied: httpx<1,>=0.23.0 in /usr/local/lib/python3.11/dist-packages (from groq<1,>=0.4.1->langchain_groq) (0.28.1)\n",
            "Requirement already satisfied: pydantic<3,>=1.9.0 in /usr/local/lib/python3.11/dist-packages (from groq<1,>=0.4.1->langchain_groq) (2.11.7)\n",
            "Requirement already satisfied: sniffio in /usr/local/lib/python3.11/dist-packages (from groq<1,>=0.4.1->langchain_groq) (1.3.1)\n",
            "Requirement already satisfied: typing-extensions<5,>=4.10 in /usr/local/lib/python3.11/dist-packages (from groq<1,>=0.4.1->langchain_groq) (4.14.0)\n",
            "Requirement already satisfied: langsmith<0.4,>=0.3.45 in /usr/local/lib/python3.11/dist-packages (from langchain-core<1.0.0,>=0.3.49->langchain_groq) (0.3.45)\n",
            "Requirement already satisfied: tenacity!=8.4.0,<10.0.0,>=8.1.0 in /usr/local/lib/python3.11/dist-packages (from langchain-core<1.0.0,>=0.3.49->langchain_groq) (9.1.2)\n",
            "Requirement already satisfied: jsonpatch<2.0,>=1.33 in /usr/local/lib/python3.11/dist-packages (from langchain-core<1.0.0,>=0.3.49->langchain_groq) (1.33)\n",
            "Requirement already satisfied: PyYAML>=5.3 in /usr/local/lib/python3.11/dist-packages (from langchain-core<1.0.0,>=0.3.49->langchain_groq) (6.0.2)\n",
            "Requirement already satisfied: packaging<25,>=23.2 in /usr/local/lib/python3.11/dist-packages (from langchain-core<1.0.0,>=0.3.49->langchain_groq) (24.2)\n",
            "Requirement already satisfied: idna>=2.8 in /usr/local/lib/python3.11/dist-packages (from anyio<5,>=3.5.0->groq<1,>=0.4.1->langchain_groq) (3.10)\n",
            "Requirement already satisfied: certifi in /usr/local/lib/python3.11/dist-packages (from httpx<1,>=0.23.0->groq<1,>=0.4.1->langchain_groq) (2025.6.15)\n",
            "Requirement already satisfied: httpcore==1.* in /usr/local/lib/python3.11/dist-packages (from httpx<1,>=0.23.0->groq<1,>=0.4.1->langchain_groq) (1.0.9)\n",
            "Requirement already satisfied: h11>=0.16 in /usr/local/lib/python3.11/dist-packages (from httpcore==1.*->httpx<1,>=0.23.0->groq<1,>=0.4.1->langchain_groq) (0.16.0)\n",
            "Requirement already satisfied: jsonpointer>=1.9 in /usr/local/lib/python3.11/dist-packages (from jsonpatch<2.0,>=1.33->langchain-core<1.0.0,>=0.3.49->langchain_groq) (3.0.0)\n",
            "Requirement already satisfied: orjson<4.0.0,>=3.9.14 in /usr/local/lib/python3.11/dist-packages (from langsmith<0.4,>=0.3.45->langchain-core<1.0.0,>=0.3.49->langchain_groq) (3.10.18)\n",
            "Requirement already satisfied: requests<3,>=2 in /usr/local/lib/python3.11/dist-packages (from langsmith<0.4,>=0.3.45->langchain-core<1.0.0,>=0.3.49->langchain_groq) (2.32.3)\n",
            "Requirement already satisfied: requests-toolbelt<2.0.0,>=1.0.0 in /usr/local/lib/python3.11/dist-packages (from langsmith<0.4,>=0.3.45->langchain-core<1.0.0,>=0.3.49->langchain_groq) (1.0.0)\n",
            "Requirement already satisfied: zstandard<0.24.0,>=0.23.0 in /usr/local/lib/python3.11/dist-packages (from langsmith<0.4,>=0.3.45->langchain-core<1.0.0,>=0.3.49->langchain_groq) (0.23.0)\n",
            "Requirement already satisfied: annotated-types>=0.6.0 in /usr/local/lib/python3.11/dist-packages (from pydantic<3,>=1.9.0->groq<1,>=0.4.1->langchain_groq) (0.7.0)\n",
            "Requirement already satisfied: pydantic-core==2.33.2 in /usr/local/lib/python3.11/dist-packages (from pydantic<3,>=1.9.0->groq<1,>=0.4.1->langchain_groq) (2.33.2)\n",
            "Requirement already satisfied: typing-inspection>=0.4.0 in /usr/local/lib/python3.11/dist-packages (from pydantic<3,>=1.9.0->groq<1,>=0.4.1->langchain_groq) (0.4.1)\n",
            "Requirement already satisfied: charset-normalizer<4,>=2 in /usr/local/lib/python3.11/dist-packages (from requests<3,>=2->langsmith<0.4,>=0.3.45->langchain-core<1.0.0,>=0.3.49->langchain_groq) (3.4.2)\n",
            "Requirement already satisfied: urllib3<3,>=1.21.1 in /usr/local/lib/python3.11/dist-packages (from requests<3,>=2->langsmith<0.4,>=0.3.45->langchain-core<1.0.0,>=0.3.49->langchain_groq) (2.4.0)\n",
            "Downloading langchain_groq-0.3.2-py3-none-any.whl (15 kB)\n",
            "Downloading groq-0.28.0-py3-none-any.whl (130 kB)\n",
            "\u001b[2K   \u001b[90m━━━━━━━━━━━━━━━━━━━━━━━━━━━━━━━━━━━━━━━━\u001b[0m \u001b[32m130.2/130.2 kB\u001b[0m \u001b[31m2.7 MB/s\u001b[0m eta \u001b[36m0:00:00\u001b[0m\n",
            "\u001b[?25hInstalling collected packages: groq, langchain_groq\n",
            "Successfully installed groq-0.28.0 langchain_groq-0.3.2\n"
          ]
        }
      ],
      "source": [
        "!pip install langchain_groq"
      ]
    },
    {
      "cell_type": "code",
      "source": [
        "#import libraries\n",
        "from langchain_core.tools import Tool\n",
        "from langchain_groq import ChatGroq #used to connect woth Groq using API\n",
        "from langchain.agents import initialize_agent, AgentType\n",
        "from langchain.memory import ConversationBufferMemory #used for chat"
      ],
      "metadata": {
        "id": "mOdUZgZ4lYgU"
      },
      "execution_count": 4,
      "outputs": []
    },
    {
      "cell_type": "markdown",
      "source": [
        "## Define Context"
      ],
      "metadata": {
        "id": "BQUXmBm_nHch"
      }
    },
    {
      "cell_type": "code",
      "source": [
        "#create simulated context\n",
        "## @Tool #- another way to define a function as a tool\n",
        "def context1(query: str):\n",
        "  \"\"\"This context will help us to answer questions about France, Paris, Eiffel Tower.\"\"\" #documentation of the context which will be used by tool calling\n",
        "  return \"The capital of France is Paris and it is known for the Eiffel Tower.\"\n",
        "\n",
        "\n",
        "def context2(query: str):\n",
        "  return \"Elephants are the largest land animals and are known for their trunks\""
      ],
      "metadata": {
        "id": "rER75JJSmVyb"
      },
      "execution_count": 5,
      "outputs": []
    },
    {
      "cell_type": "markdown",
      "source": [
        "## Define LLM"
      ],
      "metadata": {
        "id": "szKPCYIKpXb_"
      }
    },
    {
      "cell_type": "code",
      "source": [
        "GROQ_API_KEY = \"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\"\n",
        "llm = ChatGroq(model_name=\"llama-3.3-70b-versatile\", groq_api_key=GROQ_API_KEY)"
      ],
      "metadata": {
        "id": "zOIcVjW-pRxJ"
      },
      "execution_count": 6,
      "outputs": []
    },
    {
      "cell_type": "markdown",
      "source": [],
      "metadata": {
        "id": "uJK3JY1n1zpk"
      }
    },
    {
      "cell_type": "markdown",
      "source": [
        "## Define Tools list"
      ],
      "metadata": {
        "id": "IttORWNDqakm"
      }
    },
    {
      "cell_type": "code",
      "source": [
        "#create list of tools\n",
        "tools =[\n",
        "\n",
        "        Tool(name=\"Context1\", func=context1,description=\"This context will help us to answer questions about France, Paris, Eiffel Tower.\"),\n",
        "        Tool(name='Context2', func=context2, description=\"This context will be used for answering questions about Elephants.\")\n",
        "]"
      ],
      "metadata": {
        "id": "pJJP5aoPqRUV"
      },
      "execution_count": 8,
      "outputs": []
    },
    {
      "cell_type": "markdown",
      "source": [
        "## Initialize memory"
      ],
      "metadata": {
        "id": "JfKuKZQrsA4M"
      }
    },
    {
      "cell_type": "code",
      "source": [
        "memory = ConversationBufferMemory(\n",
        "    memory_key='chat_history', #memory will be initiatlized with this key. All the threads are identified using this key. It is used to separate threads of chat.\n",
        "    return_messages=True)"
      ],
      "metadata": {
        "id": "5JxZjWTtq5m_"
      },
      "execution_count": 13,
      "outputs": []
    },
    {
      "cell_type": "markdown",
      "source": [
        "## Create Agent"
      ],
      "metadata": {
        "id": "YsMpoGgrr8C0"
      }
    },
    {
      "cell_type": "code",
      "source": [
        "#intitialize chat agent\n",
        "conversational_react_agent = initialize_agent(tools, llm, agent=AgentType.CONVERSATIONAL_REACT_DESCRIPTION, verbose=True, memory=memory) #Verbose is used to display thought chain."
      ],
      "metadata": {
        "id": "gxCMtO1qr56E"
      },
      "execution_count": 14,
      "outputs": []
    },
    {
      "cell_type": "markdown",
      "source": [
        "## Use Agent"
      ],
      "metadata": {
        "id": "-hlN1qTntIgu"
      }
    },
    {
      "cell_type": "code",
      "source": [
        "#create function to use agent (optional)\n",
        "def get_context_based_response(query: str):\n",
        "  \"\"\"Gets a response based on the context.\"\"\"\n",
        "  response = conversational_react_agent.run(query)\n",
        "  return response"
      ],
      "metadata": {
        "id": "da-IlHD8s_p-"
      },
      "execution_count": 15,
      "outputs": []
    },
    {
      "cell_type": "code",
      "source": [
        "#call the function to invoke Agent\n",
        "while True:\n",
        "  user_query = input(\"Enter your query(type 'exit' to exit): \")\n",
        "  if user_query.lower() == \"exit\":\n",
        "    break\n",
        "  response = get_context_based_response(user_query)\n",
        "  print(response)"
      ],
      "metadata": {
        "colab": {
          "base_uri": "https://localhost:8080/"
        },
        "id": "YQbLEQxrtsNS",
        "outputId": "09c4e7db-b2f5-41ef-8de3-6b4759d99c02"
      },
      "execution_count": 16,
      "outputs": [
        {
          "name": "stdout",
          "output_type": "stream",
          "text": [
            "Enter your query(type 'exit' to exit): Give me itinerary of famous monument in Paris\n",
            "\n",
            "\n",
            "\u001b[1m> Entering new AgentExecutor chain...\u001b[0m\n",
            "\u001b[32;1m\u001b[1;3mThought: Do I need to use a tool? Yes\n",
            "Action: Context1\n",
            "Action Input: Famous monument in Paris\u001b[0m\n",
            "Observation: \u001b[36;1m\u001b[1;3mThe capital of France is Paris and it is known for the Eiffel Tower.\u001b[0m\n",
            "Thought:\u001b[32;1m\u001b[1;3mDo I need to use a tool? No\n",
            "AI: The Eiffel Tower is one of the most famous monuments in Paris. Here's a suggested itinerary for visiting the Eiffel Tower: \n",
            "1. Morning: Start your day with a visit to the Eiffel Tower. You can take the stairs or elevator to the top for a breathtaking view of the city.\n",
            "2. Afternoon: After visiting the Eiffel Tower, you can walk to the nearby Champ de Mars park for a picnic lunch or grab a bite to eat at one of the many cafes in the area.\n",
            "3. Evening: End your day with a Seine River cruise, which will give you a unique perspective on the city's landmarks, including the Eiffel Tower.\n",
            "This is just one example itinerary, and you can customize your day to fit your interests and schedule.\u001b[0m\n",
            "\n",
            "\u001b[1m> Finished chain.\u001b[0m\n",
            "The Eiffel Tower is one of the most famous monuments in Paris. Here's a suggested itinerary for visiting the Eiffel Tower: \n",
            "1. Morning: Start your day with a visit to the Eiffel Tower. You can take the stairs or elevator to the top for a breathtaking view of the city.\n",
            "2. Afternoon: After visiting the Eiffel Tower, you can walk to the nearby Champ de Mars park for a picnic lunch or grab a bite to eat at one of the many cafes in the area.\n",
            "3. Evening: End your day with a Seine River cruise, which will give you a unique perspective on the city's landmarks, including the Eiffel Tower.\n",
            "This is just one example itinerary, and you can customize your day to fit your interests and schedule.\n",
            "Enter your query(type 'exit' to exit): Tell me details about animals with trunks\n",
            "\n",
            "\n",
            "\u001b[1m> Entering new AgentExecutor chain...\u001b[0m\n",
            "\u001b[32;1m\u001b[1;3mThought: Do I need to use a tool? Yes\n",
            "Action: Context2\n",
            "Action Input: animals with trunks\u001b[0m\n",
            "Observation: \u001b[33;1m\u001b[1;3mElephants are the largest land animals and are known for their trunks\u001b[0m\n",
            "Thought:\u001b[32;1m\u001b[1;3mDo I need to use a tool? No\n",
            "AI: Elephants are the largest land animals and are known for their trunks. They use their trunks for breathing, drinking, eating, grasping objects, and social interactions. Elephants have a highly developed brain and are considered one of the smartest animals on Earth. They live in large matriarchal herds and are found in various habitats, including savannas, forests, and deserts. Would you like to know more about elephant behavior, habitat, or conservation status?\u001b[0m\n",
            "\n",
            "\u001b[1m> Finished chain.\u001b[0m\n",
            "Elephants are the largest land animals and are known for their trunks. They use their trunks for breathing, drinking, eating, grasping objects, and social interactions. Elephants have a highly developed brain and are considered one of the smartest animals on Earth. They live in large matriarchal herds and are found in various habitats, including savannas, forests, and deserts. Would you like to know more about elephant behavior, habitat, or conservation status?\n",
            "Enter your query(type 'exit' to exit): Give me details of Champ de Mars park\n",
            "\n",
            "\n",
            "\u001b[1m> Entering new AgentExecutor chain...\u001b[0m\n",
            "\u001b[32;1m\u001b[1;3mThought: Do I need to use a tool? Yes\n",
            "Action: Context1\n",
            "Action Input: Champ de Mars park\u001b[0m\n",
            "Observation: \u001b[36;1m\u001b[1;3mThe capital of France is Paris and it is known for the Eiffel Tower.\u001b[0m\n",
            "Thought:\u001b[32;1m\u001b[1;3mDo I need to use a tool? No\n",
            "AI: Champ de Mars is a public park located in the 7th arrondissement of Paris, France. It is situated between the Eiffel Tower and the École Militaire, and it offers a stunning view of the tower. The park is a popular spot for picnics, relaxation, and people-watching. It also hosts various events and festivals throughout the year, including concerts, markets, and fireworks displays. The park's name, \"Champ de Mars,\" translates to \"Field of Mars\" in English, and it was originally used as a military training ground. Today, it is a beloved green space in the heart of Paris, attracting millions of visitors each year.\u001b[0m\n",
            "\n",
            "\u001b[1m> Finished chain.\u001b[0m\n",
            "Champ de Mars is a public park located in the 7th arrondissement of Paris, France. It is situated between the Eiffel Tower and the École Militaire, and it offers a stunning view of the tower. The park is a popular spot for picnics, relaxation, and people-watching. It also hosts various events and festivals throughout the year, including concerts, markets, and fireworks displays. The park's name, \"Champ de Mars,\" translates to \"Field of Mars\" in English, and it was originally used as a military training ground. Today, it is a beloved green space in the heart of Paris, attracting millions of visitors each year.\n",
            "Enter your query(type 'exit' to exit): exit\n"
          ]
        }
      ]
    },
    {
      "cell_type": "code",
      "source": [],
      "metadata": {
        "id": "5M1ylCrGuZ75"
      },
      "execution_count": null,
      "outputs": []
    }
  ]
}